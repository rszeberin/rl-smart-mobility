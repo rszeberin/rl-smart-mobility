{
 "cells": [
  {
   "cell_type": "code",
   "execution_count": 53,
   "id": "2010c31b",
   "metadata": {},
   "outputs": [],
   "source": [
    "import numpy as np\n",
    "import pandas as pd\n",
    "import matplotlib.pyplot as plt\n",
    "import networkx as nx\n",
    "import torch"
   ]
  },
  {
   "cell_type": "code",
   "execution_count": 28,
   "id": "ae678cd0",
   "metadata": {},
   "outputs": [],
   "source": [
    "G = nx.barabasi_albert_graph(7,3)"
   ]
  },
  {
   "cell_type": "code",
   "execution_count": 24,
   "id": "9077d21c",
   "metadata": {},
   "outputs": [
    {
     "data": {
      "text/plain": [
       "NodeView((0, 1, 2, 3, 4, 5, 6, 7))"
      ]
     },
     "execution_count": 24,
     "metadata": {},
     "output_type": "execute_result"
    }
   ],
   "source": [
    "G.nodes"
   ]
  },
  {
   "cell_type": "code",
   "execution_count": 20,
   "id": "46b9a914",
   "metadata": {},
   "outputs": [
    {
     "data": {
      "text/plain": [
       "AtlasView({1: {}})"
      ]
     },
     "execution_count": 20,
     "metadata": {},
     "output_type": "execute_result"
    }
   ],
   "source": [
    "G[0]"
   ]
  },
  {
   "cell_type": "code",
   "execution_count": 21,
   "id": "87fa505a",
   "metadata": {},
   "outputs": [
    {
     "data": {
      "text/plain": [
       "[0, 1, 2, 3, 4, 5, 6, 7]"
      ]
     },
     "execution_count": 21,
     "metadata": {},
     "output_type": "execute_result"
    }
   ],
   "source": [
    "list(G.nodes)"
   ]
  },
  {
   "cell_type": "code",
   "execution_count": 50,
   "id": "da9dacbf",
   "metadata": {},
   "outputs": [
    {
     "data": {
      "text/plain": [
       "[0, 1, 2, 3, 4, 5, 6]"
      ]
     },
     "execution_count": 50,
     "metadata": {},
     "output_type": "execute_result"
    }
   ],
   "source": [
    "[x for x in G.nodes]"
   ]
  },
  {
   "cell_type": "code",
   "execution_count": 29,
   "id": "9bb28c1d",
   "metadata": {},
   "outputs": [
    {
     "data": {
      "image/png": "[encoded data removed]",
      "text/plain": [
       "<Figure size 432x288 with 1 Axes>"
      ]
     },
     "metadata": {},
     "output_type": "display_data"
    }
   ],
   "source": [
    "nx.draw(G, with_labels=True)"
   ]
  },
  {
   "cell_type": "code",
   "execution_count": 34,
   "id": "bf68da06",
   "metadata": {},
   "outputs": [
    {
     "name": "stderr",
     "output_type": "stream",
     "text": [
      "C:\\Users\\danie\\AppData\\Local\\Temp\\ipykernel_16496\\1018844737.py:1: FutureWarning: adjacency_matrix will return a scipy.sparse array instead of a matrix in Networkx 3.0.\n",
      "  A = nx.adjacency_matrix(G)\n"
     ]
    }
   ],
   "source": [
    "A = nx.adjacency_matrix(G)"
   ]
  },
  {
   "cell_type": "code",
   "execution_count": 42,
   "id": "adb3d8e5",
   "metadata": {},
   "outputs": [
    {
     "data": {
      "text/plain": [
       "<7x7 sparse matrix of type '<class 'numpy.intc'>'\n",
       "\twith 24 stored elements in Compressed Sparse Row format>"
      ]
     },
     "execution_count": 42,
     "metadata": {},
     "output_type": "execute_result"
    }
   ],
   "source": [
    "A"
   ]
  },
  {
   "cell_type": "code",
   "execution_count": 37,
   "id": "6f95bb15",
   "metadata": {},
   "outputs": [
    {
     "data": {
      "text/plain": [
       "matrix([[0, 1, 1, 1, 1, 1, 1],\n",
       "        [1, 0, 0, 0, 1, 1, 1],\n",
       "        [1, 0, 0, 0, 0, 0, 0],\n",
       "        [1, 0, 0, 0, 1, 1, 1],\n",
       "        [1, 1, 0, 1, 0, 0, 0],\n",
       "        [1, 1, 0, 1, 0, 0, 0],\n",
       "        [1, 1, 0, 1, 0, 0, 0]], dtype=int32)"
      ]
     },
     "execution_count": 37,
     "metadata": {},
     "output_type": "execute_result"
    }
   ],
   "source": [
    "A.todense()"
   ]
  },
  {
   "cell_type": "code",
   "execution_count": 41,
   "id": "07a17aa2",
   "metadata": {},
   "outputs": [
    {
     "data": {
      "text/plain": [
       "matrix([[0., 1., 1., 1., 1., 1., 1.],\n",
       "        [1., 0., 0., 0., 1., 1., 1.],\n",
       "        [1., 0., 0., 0., 0., 0., 0.],\n",
       "        [1., 0., 0., 0., 1., 1., 1.],\n",
       "        [1., 1., 0., 1., 0., 0., 0.],\n",
       "        [1., 1., 0., 1., 0., 0., 0.],\n",
       "        [1., 1., 0., 1., 0., 0., 0.]])"
      ]
     },
     "execution_count": 41,
     "metadata": {},
     "output_type": "execute_result"
    }
   ],
   "source": [
    "nx.to_numpy_matrix(G)"
   ]
  },
  {
   "cell_type": "code",
   "execution_count": 44,
   "id": "4ce5e6e9",
   "metadata": {},
   "outputs": [],
   "source": [
    "A = A.todense()"
   ]
  },
  {
   "cell_type": "code",
   "execution_count": 45,
   "id": "23d40214",
   "metadata": {},
   "outputs": [
    {
     "data": {
      "text/plain": [
       "matrix([[0, 1, 1, 1, 1, 1, 1],\n",
       "        [1, 0, 0, 0, 1, 1, 1],\n",
       "        [1, 0, 0, 0, 0, 0, 0],\n",
       "        [1, 0, 0, 0, 1, 1, 1],\n",
       "        [1, 1, 0, 1, 0, 0, 0],\n",
       "        [1, 1, 0, 1, 0, 0, 0],\n",
       "        [1, 1, 0, 1, 0, 0, 0]], dtype=int32)"
      ]
     },
     "execution_count": 45,
     "metadata": {},
     "output_type": "execute_result"
    }
   ],
   "source": [
    "A"
   ]
  },
  {
   "cell_type": "code",
   "execution_count": null,
   "id": "419503f3",
   "metadata": {},
   "outputs": [],
   "source": [
    "def f(M):\n",
    "    "
   ]
  },
  {
   "cell_type": "code",
   "execution_count": 47,
   "id": "569825f2",
   "metadata": {},
   "outputs": [
    {
     "data": {
      "text/plain": [
       "[0, 4, 5, 6]"
      ]
     },
     "execution_count": 47,
     "metadata": {},
     "output_type": "execute_result"
    }
   ],
   "source": [
    "S = [0, 5, 7, 1]\n",
    "\n",
    "potential_nodes = list(G.neighbors(S[-1]))"
   ]
  },
  {
   "cell_type": "code",
   "execution_count": 48,
   "id": "bb87ef4c",
   "metadata": {},
   "outputs": [
    {
     "data": {
      "text/plain": [
       "EdgeView([(0, 1), (0, 2), (0, 3), (0, 4), (0, 5), (0, 6), (1, 4), (1, 5), (1, 6), (3, 4), (3, 5), (3, 6)])"
      ]
     },
     "execution_count": 48,
     "metadata": {},
     "output_type": "execute_result"
    }
   ],
   "source": [
    "G.edges"
   ]
  },
  {
   "cell_type": "code",
   "execution_count": 70,
   "id": "22855b1f",
   "metadata": {},
   "outputs": [],
   "source": [
    "nodes_count = 7\n",
    "observation = torch.zeros(nodes_count,dtype=torch.float)\n",
    "for node in G.nodes:\n",
    "    if node in S: observation[node] = 1\n",
    "adj = G.edges()\n",
    "select_node=np.where(observation[:].numpy() == 1)[0]"
   ]
  },
  {
   "cell_type": "code",
   "execution_count": 71,
   "id": "b4a02f44",
   "metadata": {},
   "outputs": [],
   "source": [
    "S = [2,5,4]"
   ]
  },
  {
   "cell_type": "code",
   "execution_count": 72,
   "id": "b6394e68",
   "metadata": {},
   "outputs": [
    {
     "data": {
      "text/plain": [
       "array([2, 4, 5], dtype=int64)"
      ]
     },
     "execution_count": 72,
     "metadata": {},
     "output_type": "execute_result"
    }
   ],
   "source": [
    "select_node"
   ]
  },
  {
   "cell_type": "code",
   "execution_count": 73,
   "id": "5355c2a5",
   "metadata": {},
   "outputs": [
    {
     "data": {
      "image/png": "[encoded data removed]",
      "text/plain": [
       "<Figure size 432x288 with 1 Axes>"
      ]
     },
     "metadata": {},
     "output_type": "display_data"
    }
   ],
   "source": [
    "nx.draw(G, with_labels=True)"
   ]
  },
  {
   "cell_type": "code",
   "execution_count": 94,
   "id": "7ac80bcd",
   "metadata": {},
   "outputs": [
    {
     "data": {
      "text/plain": [
       "[2, 5, 4]"
      ]
     },
     "execution_count": 94,
     "metadata": {},
     "output_type": "execute_result"
    }
   ],
   "source": [
    "S = "
   ]
  },
  {
   "cell_type": "code",
   "execution_count": null,
   "id": "a391e2be",
   "metadata": {},
   "outputs": [],
   "source": [
    "for s in S:\n",
    "    G.neighbors(s)"
   ]
  },
  {
   "cell_type": "code",
   "execution_count": 74,
   "id": "c049cff5",
   "metadata": {},
   "outputs": [
    {
     "data": {
      "text/plain": [
       "EdgeView([(0, 1), (0, 2), (0, 3), (0, 4), (0, 5), (0, 6), (1, 4), (1, 5), (1, 6), (3, 4), (3, 5), (3, 6)])"
      ]
     },
     "execution_count": 74,
     "metadata": {},
     "output_type": "execute_result"
    }
   ],
   "source": [
    "adj"
   ]
  },
  {
   "cell_type": "code",
   "execution_count": 75,
   "id": "90540c03",
   "metadata": {},
   "outputs": [
    {
     "name": "stdout",
     "output_type": "stream",
     "text": [
      "Note: you may need to restart the kernel to use updated packages.\n"
     ]
    },
    {
     "name": "stderr",
     "output_type": "stream",
     "text": [
      "ERROR: Could not find a version that satisfies the requirement itertools (from versions: none)\n",
      "ERROR: No matching distribution found for itertools\n",
      "WARNING: You are using pip version 21.2.4; however, version 22.0.4 is available.\n",
      "You should consider upgrading via the 'C:\\Users\\danie\\AppData\\Local\\Programs\\Python\\Python310\\python.exe -m pip install --upgrade pip' command.\n"
     ]
    }
   ],
   "source": [
    "pip install itertools"
   ]
  },
  {
   "cell_type": "code",
   "execution_count": 76,
   "id": "174e550c",
   "metadata": {},
   "outputs": [],
   "source": [
    "from itertools import combinations"
   ]
  },
  {
   "cell_type": "code",
   "execution_count": 89,
   "id": "b34eb52b",
   "metadata": {},
   "outputs": [],
   "source": [
    "poss = set(combinations(G.nodes, 2))"
   ]
  },
  {
   "cell_type": "code",
   "execution_count": 90,
   "id": "3ce66c59",
   "metadata": {},
   "outputs": [],
   "source": [
    "adj = set(adj)"
   ]
  },
  {
   "cell_type": "code",
   "execution_count": 91,
   "id": "358a13c5",
   "metadata": {},
   "outputs": [
    {
     "name": "stdout",
     "output_type": "stream",
     "text": [
      "{(0, 1), (0, 4), (3, 4), (1, 5), (0, 3), (1, 4), (0, 6), (0, 2), (0, 5), (3, 6), (1, 6), (3, 5)}\n",
      "{(3, 4), (4, 6), (0, 2), (0, 5), (1, 6), (2, 5), (1, 3), (4, 5), (5, 6), (3, 6), (0, 1), (2, 4), (1, 2), (0, 4), (1, 5), (3, 5), (0, 3), (1, 4), (0, 6), (2, 3), (2, 6)}\n"
     ]
    }
   ],
   "source": [
    "print(adj)\n",
    "print(poss)"
   ]
  },
  {
   "cell_type": "code",
   "execution_count": 92,
   "id": "ef257551",
   "metadata": {},
   "outputs": [],
   "source": [
    "non_adj = poss - adj"
   ]
  },
  {
   "cell_type": "code",
   "execution_count": 93,
   "id": "69dfc0a4",
   "metadata": {},
   "outputs": [
    {
     "data": {
      "text/plain": [
       "{(1, 2), (1, 3), (2, 3), (2, 4), (2, 5), (2, 6), (4, 5), (4, 6), (5, 6)}"
      ]
     },
     "execution_count": 93,
     "metadata": {},
     "output_type": "execute_result"
    }
   ],
   "source": [
    "non_adj"
   ]
  },
  {
   "cell_type": "code",
   "execution_count": 96,
   "id": "27faad46",
   "metadata": {},
   "outputs": [
    {
     "data": {
      "text/plain": [
       "{(0, 1),\n",
       " (0, 2),\n",
       " (0, 3),\n",
       " (0, 4),\n",
       " (0, 5),\n",
       " (0, 6),\n",
       " (1, 4),\n",
       " (1, 5),\n",
       " (1, 6),\n",
       " (3, 4),\n",
       " (3, 5),\n",
       " (3, 6)}"
      ]
     },
     "execution_count": 96,
     "metadata": {},
     "output_type": "execute_result"
    }
   ],
   "source": [
    "adj"
   ]
  },
  {
   "cell_type": "code",
   "execution_count": 98,
   "id": "a96c1891",
   "metadata": {},
   "outputs": [
    {
     "name": "stdout",
     "output_type": "stream",
     "text": [
      "(0, 1)\n",
      "(0, 4)\n",
      "(3, 4)\n",
      "(1, 5)\n",
      "(0, 3)\n",
      "(1, 4)\n",
      "(0, 6)\n",
      "(0, 2)\n",
      "(0, 5)\n",
      "(3, 6)\n",
      "(1, 6)\n",
      "(3, 5)\n"
     ]
    }
   ],
   "source": [
    "for node in adj:\n",
    "    print(node)"
   ]
  },
  {
   "cell_type": "code",
   "execution_count": null,
   "id": "44d83767",
   "metadata": {},
   "outputs": [],
   "source": []
  }
 ],
 "metadata": {
  "kernelspec": {
   "display_name": "Python 3 (ipykernel)",
   "language": "python",
   "name": "python3"
  },
  "language_info": {
   "codemirror_mode": {
    "name": "ipython",
    "version": 3
   },
   "file_extension": ".py",
   "mimetype": "text/x-python",
   "name": "python",
   "nbconvert_exporter": "python",
   "pygments_lexer": "ipython3",
   "version": "3.10.1"
  }
 },
 "nbformat": 4,
 "nbformat_minor": 5
}
